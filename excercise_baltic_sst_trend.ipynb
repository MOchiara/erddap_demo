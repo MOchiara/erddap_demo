{
 "cells": [
  {
   "cell_type": "markdown",
   "id": "750e4eb7-a734-468f-8c8b-c93bd24295f3",
   "metadata": {},
   "source": [
    "# Excercise: Calculate seasonal variation of SST in the Baltic\n",
    "\n",
    "For this excersise, use glider data from VOTO to calculate seasonal vartiation of SST"
   ]
  },
  {
   "cell_type": "code",
   "execution_count": 1,
   "id": "8fb68836-b227-485a-bea9-9b7c6b8fa614",
   "metadata": {},
   "outputs": [],
   "source": [
    "import matplotlib.pyplot as plt\n",
    "import xarray as xr\n",
    "import datetime\n",
    "import numpy as np\n",
    "import cartopy\n",
    "from erddapy import ERDDAP"
   ]
  },
  {
   "cell_type": "markdown",
   "id": "8297314b-6333-48c4-9920-3ce91afd4283",
   "metadata": {},
   "source": [
    "1. Setup the ERDDAP connection to VOTO gliders ERDDAP \n",
    "\n",
    "https://erddap.observations.voiceoftheocean.org/erddap/index.html"
   ]
  },
  {
   "cell_type": "code",
   "execution_count": 2,
   "id": "2a01958f-d6ef-4fa7-8940-2b81bffc61e6",
   "metadata": {},
   "outputs": [],
   "source": [
    "e = ERDDAP(\n",
    "    server=\"your server here\", \n",
    "    protocol=\"tabledap\", # use griddap for gridded datasets\n",
    ")"
   ]
  },
  {
   "cell_type": "markdown",
   "id": "100c2f73-88ac-432d-a324-556dbe9250ce",
   "metadata": {},
   "source": [
    "2. Search for gliders in the Baltic proper (east of 18 degrees to avoid including the Kattegat)\n",
    "\n",
    "\n",
    "**hint:** download the `allDatasets` dataset and keep only glider missions within geographical bounds"
   ]
  },
  {
   "cell_type": "code",
   "execution_count": null,
   "id": "f05639b9-8dda-49d4-bb89-477e4d7784b2",
   "metadata": {},
   "outputs": [],
   "source": [
    "ioos_datasets"
   ]
  },
  {
   "cell_type": "markdown",
   "id": "eb700634-4cff-4498-8b1e-7421ee792ca1",
   "metadata": {},
   "source": [
    "3. Download some datasets\n",
    "\n",
    "**hint** we are only interested in SST, so try specifying a depth range, as demonstrated in notebook [02_glider_analysis section 4](02_glider_analysis.ipynb#4.-Download-the-full-datasets) "
   ]
  },
  {
   "cell_type": "code",
   "execution_count": null,
   "id": "91a020ce-4d06-4fdc-bb57-4c2b87e93b5d",
   "metadata": {},
   "outputs": [],
   "source": [
    "e.constraints = {}\n",
    "baltic_datasets = {}\n",
    "for ds_name in datasets_to_download:\n",
    "    baltic_datasets[ds_name] = e."
   ]
  },
  {
   "cell_type": "markdown",
   "id": "ff71eb9c-f958-49a2-a53a-58d882b0561d",
   "metadata": {},
   "source": [
    "4. Start analysis"
   ]
  },
  {
   "cell_type": "code",
   "execution_count": null,
   "id": "b3418b11-6284-451e-a511-1e9e828e1ee6",
   "metadata": {},
   "outputs": [],
   "source": []
  },
  {
   "cell_type": "markdown",
   "id": "4e8fd8ac-41b4-4746-a754-37eeaaf681af",
   "metadata": {},
   "source": [
    "### Expansion ideas\n",
    "\n",
    "- Compare SST trends of different areas on the Baltic, you can find a heat map of VOTO glider missions on the [stats page](https://observations.voiceoftheocean.org/stats)\n",
    "- Look for trends below the mixed layer\n",
    "- Find data from other Baltic providers to use here. e.g. the argo program (see the [argopy docs](https://argopy.readthedocs.io/en/latest/data_fetching.html))\n",
    "- Reuse your code with a different ERDDAP server (e.g. IOOS) to compute SST trends from another region"
   ]
  }
 ],
 "metadata": {
  "kernelspec": {
   "display_name": "Python 3 (ipykernel)",
   "language": "python",
   "name": "python3"
  },
  "language_info": {
   "codemirror_mode": {
    "name": "ipython",
    "version": 3
   },
   "file_extension": ".py",
   "mimetype": "text/x-python",
   "name": "python",
   "nbconvert_exporter": "python",
   "pygments_lexer": "ipython3",
   "version": "3.9.15"
  }
 },
 "nbformat": 4,
 "nbformat_minor": 5
}
