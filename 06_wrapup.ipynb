{
 "cells": [
  {
   "cell_type": "markdown",
   "id": "3770d441-7659-4b53-9e3e-96df81202cab",
   "metadata": {},
   "source": [
    "# Wrapup"
   ]
  },
  {
   "cell_type": "markdown",
   "id": "b9e84595-8a2e-4113-9cf5-d727208b15ed",
   "metadata": {},
   "source": [
    "### Learning outcomes\n",
    "\n",
    "- Construct ERDDAP urls\n",
    "- Use erddapy to get ERDDAP data in Python\n",
    "- Run queries to find datasets of interest\n",
    "- Use ERDDAP's server side subsetting\n",
    "- Search and download data from multiple ERDDAPs"
   ]
  },
  {
   "cell_type": "markdown",
   "id": "fed6af11-0a40-4906-adfd-5839d502096a",
   "metadata": {},
   "source": [
    "### Final activity\n",
    "\n",
    "After the break, we will work hands-on with ERDDAP.\n",
    "\n",
    "If you have a scientific question that can be addressed with ERDDAP data, we will help you get started. \n",
    "\n",
    "I have prepared some example notebooks, starting with `excercise_` with some ideas of queries to run against different servers.\n",
    "\n",
    "*Please be patient with download times!*  \n",
    "\n",
    "Keep your queries smart and small. Both the ERDDAP and this room have limited bandwidth\n",
    "\n",
    "-----------------"
   ]
  },
  {
   "cell_type": "markdown",
   "id": "f36680a8-2fa1-4565-82ae-ce76c56ee7b3",
   "metadata": {},
   "source": [
    "### Further reading/materials\n",
    "\n",
    "- These carpentries style course materials have lot of useful info on how ERDDAP works. The Python examples are a bit dated, but the explanations are good https://k-rns.github.io/workshop_data_reuse/"
   ]
  },
  {
   "cell_type": "markdown",
   "id": "d49be14b-83ff-4628-b5a1-5acefe696680",
   "metadata": {},
   "source": [
    "### Going forward\n",
    "\n",
    "- More technical tutorials in Gothenburg?\n",
    "- Interest in a meetup for data managers/users?\n",
    "- Other specialist tools of interest? More Python/bash/git instruction?\n"
   ]
  }
 ],
 "metadata": {
  "kernelspec": {
   "display_name": "Python 3 (ipykernel)",
   "language": "python",
   "name": "python3"
  },
  "language_info": {
   "codemirror_mode": {
    "name": "ipython",
    "version": 3
   },
   "file_extension": ".py",
   "mimetype": "text/x-python",
   "name": "python",
   "nbconvert_exporter": "python",
   "pygments_lexer": "ipython3",
   "version": "3.9.15"
  }
 },
 "nbformat": 4,
 "nbformat_minor": 5
}
