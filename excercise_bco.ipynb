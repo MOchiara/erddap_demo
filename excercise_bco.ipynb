{
 "cells": [
  {
   "cell_type": "markdown",
   "id": "750e4eb7-a734-468f-8c8b-c93bd24295f3",
   "metadata": {},
   "source": [
    "# Excercise: Visualise data from BCO-DMO\n",
    "\n",
    "The [Biological and Chemical Oceanography Data Management Office](https://www.bco-dmo.org/) server their datasets via an ERDDAP"
   ]
  },
  {
   "cell_type": "code",
   "execution_count": null,
   "id": "8fb68836-b227-485a-bea9-9b7c6b8fa614",
   "metadata": {},
   "outputs": [],
   "source": [
    "import matplotlib.pyplot as plt\n",
    "import xarray as xr\n",
    "import datetime\n",
    "import numpy as np\n",
    "import cartopy\n",
    "from erddapy import ERDDAP"
   ]
  },
  {
   "cell_type": "markdown",
   "id": "8297314b-6333-48c4-9920-3ce91afd4283",
   "metadata": {},
   "source": [
    "1. Setup the ERDDAP connection to IOOS gliders ERDDAP https://erddap.bco-dmo.org/erddap/index.html"
   ]
  },
  {
   "cell_type": "code",
   "execution_count": null,
   "id": "2a01958f-d6ef-4fa7-8940-2b81bffc61e6",
   "metadata": {},
   "outputs": [],
   "source": [
    "e = ERDDAP(\n",
    "    server=\"your server here\", \n",
    "    protocol=\"tabledap\", # There are no griddap datasets on BCO-DMO at present\n",
    ")"
   ]
  },
  {
   "cell_type": "markdown",
   "id": "100c2f73-88ac-432d-a324-556dbe9250ce",
   "metadata": {},
   "source": [
    "2. Search for gkeywords of interest\n",
    "\n",
    "\n",
    "**hint:** download the `allDatasets` dataset"
   ]
  },
  {
   "cell_type": "code",
   "execution_count": null,
   "id": "f05639b9-8dda-49d4-bb89-477e4d7784b2",
   "metadata": {},
   "outputs": [],
   "source": [
    "ioos_datasets"
   ]
  },
  {
   "cell_type": "markdown",
   "id": "eb700634-4cff-4498-8b1e-7421ee792ca1",
   "metadata": {},
   "source": [
    "3. Download some datasets"
   ]
  },
  {
   "cell_type": "code",
   "execution_count": null,
   "id": "91a020ce-4d06-4fdc-bb57-4c2b87e93b5d",
   "metadata": {},
   "outputs": [],
   "source": [
    "ioos_datasets = {}\n",
    "for ds_name in datasets_to_download:\n",
    "    ioos_datasets[ds_name] = e."
   ]
  },
  {
   "cell_type": "markdown",
   "id": "ff71eb9c-f958-49a2-a53a-58d882b0561d",
   "metadata": {},
   "source": [
    "4. Start analysis"
   ]
  },
  {
   "cell_type": "code",
   "execution_count": null,
   "id": "b3418b11-6284-451e-a511-1e9e828e1ee6",
   "metadata": {},
   "outputs": [],
   "source": []
  }
 ],
 "metadata": {
  "kernelspec": {
   "display_name": "Python 3 (ipykernel)",
   "language": "python",
   "name": "python3"
  },
  "language_info": {
   "codemirror_mode": {
    "name": "ipython",
    "version": 3
   },
   "file_extension": ".py",
   "mimetype": "text/x-python",
   "name": "python",
   "nbconvert_exporter": "python",
   "pygments_lexer": "ipython3",
   "version": "3.9.15"
  }
 },
 "nbformat": 4,
 "nbformat_minor": 5
}
