{
 "cells": [
  {
   "cell_type": "markdown",
   "id": "8f163187-8fa3-4ff4-be57-6d54031ee38b",
   "metadata": {},
   "source": [
    "# Finding missions of interest"
   ]
  },
  {
   "cell_type": "code",
   "execution_count": 1,
   "id": "e5427e14-40cc-4921-9464-b6f71c707ad1",
   "metadata": {},
   "outputs": [],
   "source": [
    "import datetime\n",
    "import pandas as pd\n",
    "from erddapy import ERDDAP\n",
    "import utils\n",
    "from tqdm.notebook import tqdm"
   ]
  },
  {
   "cell_type": "markdown",
   "id": "5aba354e-40bb-4ca3-871f-c7c2778fb316",
   "metadata": {},
   "source": [
    "We can use ERDDAP's built in search function to find datasets that match a keyword"
   ]
  },
  {
   "cell_type": "code",
   "execution_count": 2,
   "id": "8062fdb3-d0fe-43c5-8f1a-bf67f1ef1e8f",
   "metadata": {},
   "outputs": [
    {
     "data": {
      "text/plain": [
       "0      delayed_SEA069_M9\n",
       "1          nrt_SEA069_M9\n",
       "2         nrt_SEA068_M27\n",
       "3     delayed_SEA068_M27\n",
       "4         nrt_SEA055_M23\n",
       "5     delayed_SEA055_M23\n",
       "6     delayed_SEA067_M27\n",
       "7     delayed_SEA067_M29\n",
       "8     delayed_SEA067_M30\n",
       "9     delayed_SEA066_M41\n",
       "10    delayed_SEA066_M42\n",
       "11    delayed_SEA066_M43\n",
       "12    delayed_SEA067_M32\n",
       "13    delayed_SEA067_M26\n",
       "14        nrt_SEA067_M29\n",
       "15        nrt_SEA067_M30\n",
       "16        nrt_SEA066_M43\n",
       "17        nrt_SEA067_M26\n",
       "18        nrt_SEA067_M27\n",
       "19        nrt_SEA067_M32\n",
       "20        nrt_SEA066_M41\n",
       "21        nrt_SEA066_M42\n",
       "22        nrt_SEA066_M45\n",
       "23    delayed_SEA067_M37\n",
       "24        nrt_SEA067_M37\n",
       "25        nrt_SEA067_M39\n",
       "Name: Dataset ID, dtype: object"
      ]
     },
     "execution_count": 2,
     "metadata": {},
     "output_type": "execute_result"
    }
   ],
   "source": [
    "e = ERDDAP(\n",
    "    server=\"https://erddap.observations.voiceoftheocean.org/erddap\"\n",
    ")\n",
    "url = e.get_search_url(search_for=\"gotland\", response=\"csv\")\n",
    "\n",
    "df = pd.read_csv(url)\n",
    "df[\"Dataset ID\"]"
   ]
  },
  {
   "cell_type": "markdown",
   "id": "ef83ff86-43fe-4273-acc5-6deeeea5345c",
   "metadata": {},
   "source": [
    "### Search with allDatasets\n",
    "\n",
    "For a more sophisticated search, we can use the `allDatasets` dataset from ERDDAP to examine the primary metadata of all glider missions. We will use only nrt datasets to speed up the process of examining metadata"
   ]
  },
  {
   "cell_type": "code",
   "execution_count": 3,
   "id": "c7ff9bd0-06a2-48ca-8fae-4a57e06e1826",
   "metadata": {},
   "outputs": [
    {
     "name": "stdout",
     "output_type": "stream",
     "text": [
      "Analysing 116 nrt datasets\n"
     ]
    }
   ],
   "source": [
    "e = ERDDAP(\n",
    "    server=\"https://erddap.observations.voiceoftheocean.org/erddap\",\n",
    "    protocol=\"tabledap\",\n",
    ")\n",
    "\n",
    "# Fetch dataset list\n",
    "e.response = \"csv\"\n",
    "e.dataset_id = \"allDatasets\"\n",
    "df_datasets = e.to_pandas(parse_dates=['minTime (UTC)', 'maxTime (UTC)'])\n",
    "\n",
    "# drop the allDatasets row and make the datasetID the index for easier reading\n",
    "df_datasets.set_index(\"datasetID\", inplace=True)\n",
    "df_datasets.drop(\"allDatasets\", inplace=True)\n",
    "\n",
    "# Keep a susbset of useful columns\n",
    "df_datasets = df_datasets[[\n",
    " 'institution',\n",
    " 'dataStructure',\n",
    " 'cdm_data_type',\n",
    " 'minLongitude (degrees_east)',\n",
    " 'maxLongitude (degrees_east)',\n",
    " 'minLatitude (degrees_north)',\n",
    " 'maxLatitude (degrees_north)',\n",
    " 'minAltitude (m)',\n",
    " 'maxAltitude (m)',\n",
    " 'minTime (UTC)',\n",
    " 'maxTime (UTC)',\n",
    " 'infoUrl',\n",
    "]]\n",
    "\n",
    "df_datasets = df_datasets[df_datasets.index.str[:3] == \"nrt\"]\n",
    "print(f\"Analysing {len(df_datasets)} nrt datasets\")"
   ]
  },
  {
   "cell_type": "markdown",
   "id": "bafe6962-d66a-4c41-9701-4f2d13658b42",
   "metadata": {},
   "source": [
    "**side note** All VOTO datasets are represented twice on the ERDDAP: the `nrt_` version contains data communicated in near real time by the glider. `delayed_` is the dataset at full resolution downloaded from the glider after recovery. This is typically ~ 500 times larger than `nrt_`"
   ]
  },
  {
   "cell_type": "code",
   "execution_count": 4,
   "id": "916cd2b1-11f7-4736-bbe5-2090708c0896",
   "metadata": {},
   "outputs": [
    {
     "data": {
      "text/html": [
       "<div>\n",
       "<style scoped>\n",
       "    .dataframe tbody tr th:only-of-type {\n",
       "        vertical-align: middle;\n",
       "    }\n",
       "\n",
       "    .dataframe tbody tr th {\n",
       "        vertical-align: top;\n",
       "    }\n",
       "\n",
       "    .dataframe thead th {\n",
       "        text-align: right;\n",
       "    }\n",
       "</style>\n",
       "<table border=\"1\" class=\"dataframe\">\n",
       "  <thead>\n",
       "    <tr style=\"text-align: right;\">\n",
       "      <th></th>\n",
       "      <th>institution</th>\n",
       "      <th>dataStructure</th>\n",
       "      <th>cdm_data_type</th>\n",
       "      <th>minLongitude (degrees_east)</th>\n",
       "      <th>maxLongitude (degrees_east)</th>\n",
       "      <th>minLatitude (degrees_north)</th>\n",
       "      <th>maxLatitude (degrees_north)</th>\n",
       "      <th>minAltitude (m)</th>\n",
       "      <th>maxAltitude (m)</th>\n",
       "      <th>minTime (UTC)</th>\n",
       "      <th>maxTime (UTC)</th>\n",
       "      <th>infoUrl</th>\n",
       "    </tr>\n",
       "    <tr>\n",
       "      <th>datasetID</th>\n",
       "      <th></th>\n",
       "      <th></th>\n",
       "      <th></th>\n",
       "      <th></th>\n",
       "      <th></th>\n",
       "      <th></th>\n",
       "      <th></th>\n",
       "      <th></th>\n",
       "      <th></th>\n",
       "      <th></th>\n",
       "      <th></th>\n",
       "      <th></th>\n",
       "    </tr>\n",
       "  </thead>\n",
       "  <tbody>\n",
       "    <tr>\n",
       "      <th>nrt_SEA068_M27</th>\n",
       "      <td>Voice of the Ocean Foundation</td>\n",
       "      <td>table</td>\n",
       "      <td>TimeSeries</td>\n",
       "      <td>19.901883</td>\n",
       "      <td>19.982300</td>\n",
       "      <td>58.199850</td>\n",
       "      <td>58.265983</td>\n",
       "      <td>0.102737</td>\n",
       "      <td>-160.836667</td>\n",
       "      <td>2022-07-27 17:09:41+00:00</td>\n",
       "      <td>2022-07-31 03:51:42+00:00</td>\n",
       "      <td>https://cfconventions.org/cf-conventions/v1.6....</td>\n",
       "    </tr>\n",
       "    <tr>\n",
       "      <th>nrt_SEA076_M8</th>\n",
       "      <td>Voice of the Ocean Foundation</td>\n",
       "      <td>table</td>\n",
       "      <td>TimeSeries</td>\n",
       "      <td>15.736967</td>\n",
       "      <td>16.323750</td>\n",
       "      <td>55.532217</td>\n",
       "      <td>55.746117</td>\n",
       "      <td>0.072139</td>\n",
       "      <td>-75.772686</td>\n",
       "      <td>2022-10-05 15:04:10+00:00</td>\n",
       "      <td>2022-10-19 20:25:55+00:00</td>\n",
       "      <td>https://cfconventions.org/cf-conventions/v1.6....</td>\n",
       "    </tr>\n",
       "    <tr>\n",
       "      <th>nrt_SEA076_M9</th>\n",
       "      <td>Voice of the Ocean Foundation</td>\n",
       "      <td>table</td>\n",
       "      <td>TimeSeries</td>\n",
       "      <td>15.739817</td>\n",
       "      <td>16.296533</td>\n",
       "      <td>55.544550</td>\n",
       "      <td>55.661333</td>\n",
       "      <td>0.054402</td>\n",
       "      <td>-70.144741</td>\n",
       "      <td>2022-10-20 15:11:45+00:00</td>\n",
       "      <td>2022-10-31 13:05:46+00:00</td>\n",
       "      <td>https://cfconventions.org/cf-conventions/v1.6....</td>\n",
       "    </tr>\n",
       "    <tr>\n",
       "      <th>nrt_SEA069_M9</th>\n",
       "      <td>Voice of the Ocean Foundation</td>\n",
       "      <td>table</td>\n",
       "      <td>TimeSeries</td>\n",
       "      <td>19.909683</td>\n",
       "      <td>19.964233</td>\n",
       "      <td>58.192767</td>\n",
       "      <td>58.268500</td>\n",
       "      <td>0.158712</td>\n",
       "      <td>-162.851979</td>\n",
       "      <td>2022-07-27 16:37:58+00:00</td>\n",
       "      <td>2022-07-31 03:36:24+00:00</td>\n",
       "      <td>https://cfconventions.org/cf-conventions/v1.6....</td>\n",
       "    </tr>\n",
       "    <tr>\n",
       "      <th>nrt_SEA069_M11</th>\n",
       "      <td>Voice of the Ocean Foundation</td>\n",
       "      <td>table</td>\n",
       "      <td>TimeSeries</td>\n",
       "      <td>15.990183</td>\n",
       "      <td>16.376900</td>\n",
       "      <td>55.255733</td>\n",
       "      <td>55.581050</td>\n",
       "      <td>0.247636</td>\n",
       "      <td>-81.446143</td>\n",
       "      <td>2022-09-23 15:06:17+00:00</td>\n",
       "      <td>2022-10-12 15:05:13+00:00</td>\n",
       "      <td>https://cfconventions.org/cf-conventions/v1.6....</td>\n",
       "    </tr>\n",
       "    <tr>\n",
       "      <th>...</th>\n",
       "      <td>...</td>\n",
       "      <td>...</td>\n",
       "      <td>...</td>\n",
       "      <td>...</td>\n",
       "      <td>...</td>\n",
       "      <td>...</td>\n",
       "      <td>...</td>\n",
       "      <td>...</td>\n",
       "      <td>...</td>\n",
       "      <td>...</td>\n",
       "      <td>...</td>\n",
       "      <td>...</td>\n",
       "    </tr>\n",
       "    <tr>\n",
       "      <th>nrt_SEA061_M56</th>\n",
       "      <td>Voice of the Ocean Foundation</td>\n",
       "      <td>table</td>\n",
       "      <td>TimeSeries</td>\n",
       "      <td>10.953917</td>\n",
       "      <td>11.451883</td>\n",
       "      <td>57.622883</td>\n",
       "      <td>58.120500</td>\n",
       "      <td>0.010007</td>\n",
       "      <td>-134.529687</td>\n",
       "      <td>2022-04-15 10:04:36+00:00</td>\n",
       "      <td>2022-05-04 10:22:12+00:00</td>\n",
       "      <td>https://cfconventions.org/cf-conventions/v1.6....</td>\n",
       "    </tr>\n",
       "    <tr>\n",
       "      <th>nrt_SEA061_M57</th>\n",
       "      <td>Voice of the Ocean Foundation</td>\n",
       "      <td>table</td>\n",
       "      <td>TimeSeries</td>\n",
       "      <td>10.839783</td>\n",
       "      <td>11.457350</td>\n",
       "      <td>57.619817</td>\n",
       "      <td>58.357500</td>\n",
       "      <td>0.071136</td>\n",
       "      <td>-154.469223</td>\n",
       "      <td>2022-05-05 09:10:20+00:00</td>\n",
       "      <td>2022-05-23 07:27:12+00:00</td>\n",
       "      <td>https://cfconventions.org/cf-conventions/v1.6....</td>\n",
       "    </tr>\n",
       "    <tr>\n",
       "      <th>nrt_SEA061_M60</th>\n",
       "      <td>Voice of the Ocean Foundation</td>\n",
       "      <td>table</td>\n",
       "      <td>TimeSeries</td>\n",
       "      <td>10.927150</td>\n",
       "      <td>11.464567</td>\n",
       "      <td>57.619400</td>\n",
       "      <td>58.127500</td>\n",
       "      <td>0.091150</td>\n",
       "      <td>-151.033965</td>\n",
       "      <td>2022-06-15 08:38:43+00:00</td>\n",
       "      <td>2022-07-01 07:57:22+00:00</td>\n",
       "      <td>https://cfconventions.org/cf-conventions/v1.6....</td>\n",
       "    </tr>\n",
       "    <tr>\n",
       "      <th>nrt_SEA061_M62</th>\n",
       "      <td>Voice of the Ocean Foundation</td>\n",
       "      <td>table</td>\n",
       "      <td>TimeSeries</td>\n",
       "      <td>10.796117</td>\n",
       "      <td>11.466467</td>\n",
       "      <td>57.613517</td>\n",
       "      <td>58.199350</td>\n",
       "      <td>-0.011295</td>\n",
       "      <td>-192.699238</td>\n",
       "      <td>2022-07-19 12:05:47+00:00</td>\n",
       "      <td>2022-08-12 07:13:14+00:00</td>\n",
       "      <td>https://cfconventions.org/cf-conventions/v1.6....</td>\n",
       "    </tr>\n",
       "    <tr>\n",
       "      <th>nrt_SEA061_M63</th>\n",
       "      <td>Voice of the Ocean Foundation</td>\n",
       "      <td>table</td>\n",
       "      <td>TimeSeries</td>\n",
       "      <td>10.849650</td>\n",
       "      <td>11.525550</td>\n",
       "      <td>57.582883</td>\n",
       "      <td>58.112233</td>\n",
       "      <td>0.154361</td>\n",
       "      <td>-185.037862</td>\n",
       "      <td>2022-08-15 08:05:08+00:00</td>\n",
       "      <td>2022-09-07 00:18:26+00:00</td>\n",
       "      <td>https://cfconventions.org/cf-conventions/v1.6....</td>\n",
       "    </tr>\n",
       "  </tbody>\n",
       "</table>\n",
       "<p>116 rows × 12 columns</p>\n",
       "</div>"
      ],
      "text/plain": [
       "                                  institution dataStructure cdm_data_type  \\\n",
       "datasetID                                                                   \n",
       "nrt_SEA068_M27  Voice of the Ocean Foundation         table    TimeSeries   \n",
       "nrt_SEA076_M8   Voice of the Ocean Foundation         table    TimeSeries   \n",
       "nrt_SEA076_M9   Voice of the Ocean Foundation         table    TimeSeries   \n",
       "nrt_SEA069_M9   Voice of the Ocean Foundation         table    TimeSeries   \n",
       "nrt_SEA069_M11  Voice of the Ocean Foundation         table    TimeSeries   \n",
       "...                                       ...           ...           ...   \n",
       "nrt_SEA061_M56  Voice of the Ocean Foundation         table    TimeSeries   \n",
       "nrt_SEA061_M57  Voice of the Ocean Foundation         table    TimeSeries   \n",
       "nrt_SEA061_M60  Voice of the Ocean Foundation         table    TimeSeries   \n",
       "nrt_SEA061_M62  Voice of the Ocean Foundation         table    TimeSeries   \n",
       "nrt_SEA061_M63  Voice of the Ocean Foundation         table    TimeSeries   \n",
       "\n",
       "                minLongitude (degrees_east)  maxLongitude (degrees_east)  \\\n",
       "datasetID                                                                  \n",
       "nrt_SEA068_M27                    19.901883                    19.982300   \n",
       "nrt_SEA076_M8                     15.736967                    16.323750   \n",
       "nrt_SEA076_M9                     15.739817                    16.296533   \n",
       "nrt_SEA069_M9                     19.909683                    19.964233   \n",
       "nrt_SEA069_M11                    15.990183                    16.376900   \n",
       "...                                     ...                          ...   \n",
       "nrt_SEA061_M56                    10.953917                    11.451883   \n",
       "nrt_SEA061_M57                    10.839783                    11.457350   \n",
       "nrt_SEA061_M60                    10.927150                    11.464567   \n",
       "nrt_SEA061_M62                    10.796117                    11.466467   \n",
       "nrt_SEA061_M63                    10.849650                    11.525550   \n",
       "\n",
       "                minLatitude (degrees_north)  maxLatitude (degrees_north)  \\\n",
       "datasetID                                                                  \n",
       "nrt_SEA068_M27                    58.199850                    58.265983   \n",
       "nrt_SEA076_M8                     55.532217                    55.746117   \n",
       "nrt_SEA076_M9                     55.544550                    55.661333   \n",
       "nrt_SEA069_M9                     58.192767                    58.268500   \n",
       "nrt_SEA069_M11                    55.255733                    55.581050   \n",
       "...                                     ...                          ...   \n",
       "nrt_SEA061_M56                    57.622883                    58.120500   \n",
       "nrt_SEA061_M57                    57.619817                    58.357500   \n",
       "nrt_SEA061_M60                    57.619400                    58.127500   \n",
       "nrt_SEA061_M62                    57.613517                    58.199350   \n",
       "nrt_SEA061_M63                    57.582883                    58.112233   \n",
       "\n",
       "                minAltitude (m)  maxAltitude (m)             minTime (UTC)  \\\n",
       "datasetID                                                                    \n",
       "nrt_SEA068_M27         0.102737      -160.836667 2022-07-27 17:09:41+00:00   \n",
       "nrt_SEA076_M8          0.072139       -75.772686 2022-10-05 15:04:10+00:00   \n",
       "nrt_SEA076_M9          0.054402       -70.144741 2022-10-20 15:11:45+00:00   \n",
       "nrt_SEA069_M9          0.158712      -162.851979 2022-07-27 16:37:58+00:00   \n",
       "nrt_SEA069_M11         0.247636       -81.446143 2022-09-23 15:06:17+00:00   \n",
       "...                         ...              ...                       ...   \n",
       "nrt_SEA061_M56         0.010007      -134.529687 2022-04-15 10:04:36+00:00   \n",
       "nrt_SEA061_M57         0.071136      -154.469223 2022-05-05 09:10:20+00:00   \n",
       "nrt_SEA061_M60         0.091150      -151.033965 2022-06-15 08:38:43+00:00   \n",
       "nrt_SEA061_M62        -0.011295      -192.699238 2022-07-19 12:05:47+00:00   \n",
       "nrt_SEA061_M63         0.154361      -185.037862 2022-08-15 08:05:08+00:00   \n",
       "\n",
       "                           maxTime (UTC)  \\\n",
       "datasetID                                  \n",
       "nrt_SEA068_M27 2022-07-31 03:51:42+00:00   \n",
       "nrt_SEA076_M8  2022-10-19 20:25:55+00:00   \n",
       "nrt_SEA076_M9  2022-10-31 13:05:46+00:00   \n",
       "nrt_SEA069_M9  2022-07-31 03:36:24+00:00   \n",
       "nrt_SEA069_M11 2022-10-12 15:05:13+00:00   \n",
       "...                                  ...   \n",
       "nrt_SEA061_M56 2022-05-04 10:22:12+00:00   \n",
       "nrt_SEA061_M57 2022-05-23 07:27:12+00:00   \n",
       "nrt_SEA061_M60 2022-07-01 07:57:22+00:00   \n",
       "nrt_SEA061_M62 2022-08-12 07:13:14+00:00   \n",
       "nrt_SEA061_M63 2022-09-07 00:18:26+00:00   \n",
       "\n",
       "                                                          infoUrl  \n",
       "datasetID                                                          \n",
       "nrt_SEA068_M27  https://cfconventions.org/cf-conventions/v1.6....  \n",
       "nrt_SEA076_M8   https://cfconventions.org/cf-conventions/v1.6....  \n",
       "nrt_SEA076_M9   https://cfconventions.org/cf-conventions/v1.6....  \n",
       "nrt_SEA069_M9   https://cfconventions.org/cf-conventions/v1.6....  \n",
       "nrt_SEA069_M11  https://cfconventions.org/cf-conventions/v1.6....  \n",
       "...                                                           ...  \n",
       "nrt_SEA061_M56  https://cfconventions.org/cf-conventions/v1.6....  \n",
       "nrt_SEA061_M57  https://cfconventions.org/cf-conventions/v1.6....  \n",
       "nrt_SEA061_M60  https://cfconventions.org/cf-conventions/v1.6....  \n",
       "nrt_SEA061_M62  https://cfconventions.org/cf-conventions/v1.6....  \n",
       "nrt_SEA061_M63  https://cfconventions.org/cf-conventions/v1.6....  \n",
       "\n",
       "[116 rows x 12 columns]"
      ]
     },
     "execution_count": 4,
     "metadata": {},
     "output_type": "execute_result"
    }
   ],
   "source": [
    "df_datasets"
   ]
  },
  {
   "cell_type": "markdown",
   "id": "865ce23d-f6f3-47f1-a601-9fbcfc8f5ea4",
   "metadata": {},
   "source": [
    "### Find datasets from deployments that lasted longer than 30 days"
   ]
  },
  {
   "cell_type": "code",
   "execution_count": 5,
   "id": "34307d12-d503-4606-a86b-dcbe5e09c421",
   "metadata": {},
   "outputs": [
    {
     "data": {
      "text/plain": [
       "datasetID\n",
       "nrt_SEA045_M41   34 days 01:28:01\n",
       "nrt_SEA045_M44   31 days 22:47:09\n",
       "nrt_SEA044_M32   34 days 00:20:23\n",
       "nrt_SEA044_M34   32 days 17:56:00\n",
       "nrt_SEA044_M35   31 days 18:45:38\n",
       "Name: endurance, dtype: timedelta64[ns]"
      ]
     },
     "execution_count": 5,
     "metadata": {},
     "output_type": "execute_result"
    }
   ],
   "source": [
    "df_datasets[\"endurance\"] = df_datasets['maxTime (UTC)'] - df_datasets['minTime (UTC)']\n",
    "min_days = 30\n",
    "df_datasets[df_datasets[\"endurance\"] > datetime.timedelta(days=min_days)].endurance"
   ]
  },
  {
   "cell_type": "markdown",
   "id": "a860eb1e-44d1-461d-a60f-7505d7a6ba9c",
   "metadata": {},
   "source": [
    "### Which glider missions extended to a depth of greater than 150 m in the seas northeast of Gotland?"
   ]
  },
  {
   "cell_type": "code",
   "execution_count": 6,
   "id": "3951754a-b75b-4757-8fa8-3ebd2130d9fd",
   "metadata": {},
   "outputs": [
    {
     "data": {
      "text/plain": [
       "array(['nrt_SEA068_M27', 'nrt_SEA069_M9', 'nrt_SEA067_M26',\n",
       "       'nrt_SEA067_M27', 'nrt_SEA067_M29', 'nrt_SEA067_M30',\n",
       "       'nrt_SEA067_M32', 'nrt_SEA067_M37', 'nrt_SEA067_M39',\n",
       "       'nrt_SEA066_M41', 'nrt_SEA066_M42', 'nrt_SEA066_M43'], dtype=object)"
      ]
     },
     "execution_count": 6,
     "metadata": {},
     "output_type": "execute_result"
    }
   ],
   "source": [
    "min_altitude = -150 # note the sign!\n",
    "min_easting = 19\n",
    "min_northing = 58\n",
    "mask = (df_datasets['maxAltitude (m)'] < min_altitude).values \\\n",
    "* (df_datasets['maxLongitude (degrees_east)'] > min_easting).values \\\n",
    "* (df_datasets['maxLatitude (degrees_north)'] > min_northing).values\n",
    "df_datasets[mask].index.values"
   ]
  },
  {
   "cell_type": "markdown",
   "id": "55c53e9f-0562-4704-b138-32a0776189cb",
   "metadata": {},
   "source": [
    "---------------------\n",
    "\n",
    "# Deeper metadata\n",
    "\n",
    "To access metadata at the sensor level, we need to download the metadata for each dataset. This is achieved by taking a small slice of the dataset and parsing the resultant netCDF. Look at the function `get_meta` in `utils.py` for details."
   ]
  },
  {
   "cell_type": "code",
   "execution_count": 7,
   "id": "4248316d-0ea0-4165-a4b6-5565ca3c6029",
   "metadata": {},
   "outputs": [
    {
     "data": {
      "application/vnd.jupyter.widget-view+json": {
       "model_id": "b870a38f22454ea395ae2da6dc4db3b6",
       "version_major": 2,
       "version_minor": 0
      },
      "text/plain": [
       "  0%|          | 0/116 [00:00<?, ?it/s]"
      ]
     },
     "metadata": {},
     "output_type": "display_data"
    }
   ],
   "source": [
    "ds_meta = {}\n",
    "for dataset_id in tqdm(df_datasets.index):\n",
    "    ds_meta[dataset_id] = utils.get_meta(dataset_id)"
   ]
  },
  {
   "cell_type": "markdown",
   "id": "850fc8f9-3b6c-4613-95ee-720bebb692a2",
   "metadata": {},
   "source": [
    "Here's the extra metadata we're pulling"
   ]
  },
  {
   "cell_type": "code",
   "execution_count": 8,
   "id": "9c1ecf7b-4f8f-4564-8cda-3194de556bed",
   "metadata": {},
   "outputs": [
    {
     "data": {
      "text/plain": [
       "{'acknowledgement': 'This study used data collected and made freely available by Voice of the Ocean Foundation (https://voiceoftheocean.org) accessed from https://erddap.observations.voiceoftheocean.org/erddap/index.html',\n",
       " 'altimeter': {'make': 'UNKNOWN', 'model': 'UNKNOWN', 'serial': '48'},\n",
       " 'basin': 'Skagerrak, Kattegat',\n",
       " 'cdm_data_type': 'TimeSeries',\n",
       " 'cdm_timeseries_variables': 'profile_index',\n",
       " 'comment': 'deployment and recovery in Kattegat/Skagerrak',\n",
       " 'contributor_name': 'Callum Rollo, Louise Biddle, Olle Petersson, Aleksandra Mazur, Marcus Melin',\n",
       " 'contributor_role': 'Data Processor, PI, Head of Operations, Glider Technician, Glider Technician',\n",
       " 'Conventions': 'CF-1.6, COARDS, ACDD-1.3',\n",
       " 'creator_email': 'callum.rollo@voiceoftheocean.org',\n",
       " 'creator_name': 'Callum Rollo',\n",
       " 'creator_type': 'person',\n",
       " 'creator_url': 'https://observations.voiceoftheocean.org',\n",
       " 'ctd': {'calibration_date': '2021-02-25',\n",
       "  'factory_calibrated': 'Yes',\n",
       "  'long_name': 'RBR legato CTD',\n",
       "  'make': 'RBR',\n",
       "  'make_model': 'RBR legato CTD',\n",
       "  'model': 'legato',\n",
       "  'serial': '206524'},\n",
       " 'dataset_id': 'nrt_SEA061_M63',\n",
       " 'date_created': '2022-12-15T09:24:14Z',\n",
       " 'date_issued': '2022-12-15T09:24:14Z',\n",
       " 'deployment_end': '2022-09-07T00:18:26.781000000',\n",
       " 'deployment_id': '63',\n",
       " 'deployment_name': 'SAMBA',\n",
       " 'deployment_start': '2022-08-15T08:05:08.991000000',\n",
       " 'disclaimer': \"Data, products and services from VOTO are provided 'as is' without any warranty as to fitness for a particular purpose.\",\n",
       " 'Easternmost_Easting': 11.474516666666666,\n",
       " 'featureType': 'TimeSeries',\n",
       " 'format_version': 'IOOS_Glider_NetCDF_v2.0.nc',\n",
       " 'geospatial_lat_max': 57.60941666666666,\n",
       " 'geospatial_lat_min': 57.60853333333333,\n",
       " 'geospatial_lat_units': 'degrees_north',\n",
       " 'geospatial_lon_max': 11.474516666666666,\n",
       " 'geospatial_lon_min': 11.473983333333335,\n",
       " 'geospatial_lon_units': 'degrees_east',\n",
       " 'geospatial_vertical_max': 75.70928125120054,\n",
       " 'geospatial_vertical_min': 5.303803180627697,\n",
       " 'geospatial_vertical_positive': 'down',\n",
       " 'geospatial_vertical_units': 'm',\n",
       " 'glider_instrument_name': 'seaexplorer',\n",
       " 'glider_model': 'SeaExplorer',\n",
       " 'glider_name': 'Vass',\n",
       " 'glider_serial': '61',\n",
       " 'history': 'CPROOF glider toolbox version: pre-tag\\n2023-01-12T08:52:57Z (local files)\\n2023-01-12T08:52:57Z https://erddap.observations.voiceoftheocean.org/erddap/tabledap/nrt_SEA061_M63.ncCF?&time%3E=1662508435.0',\n",
       " 'id': 'Vass61-20220815T0805',\n",
       " 'infoUrl': 'https://cfconventions.org/cf-conventions/v1.6.0/cf-conventions.html',\n",
       " 'institution': 'Voice of the Ocean Foundation',\n",
       " 'keywords': '20220815t0805, 700_nm_wavelength_backscatter_in_sea_water, angle, angular, angular_cmd, angular_command, angular_pos, angular_position, autonomous underwater vehicles, auvs, backscatter, backscatter_raw, ballast, ballast_cmd, ballast_command, ballast_pos, ballast_position, chemistry, chlorophyll, chlorophyll_qc, chlorophyll_raw, color, command, concentration, concentration_of_chlorophyll_in_sea_water, concentration_of_chlorophyll_in_sea_water_flag, concentration_of_phycocyanin_in_sea_water, conductivity, conductivity_qc, control, currents, data, declination, density, density_qc, depth, desired, desired_heading, direction, dissolved, dissolved o2, distance, distance_over_ground, dive, dive_num, dive_number, earth, Earth Science > Oceans > Ocean Chemistry > Chlorophyll, Earth Science > Oceans > Ocean Chemistry > Oxygen, Earth Science > Oceans > Ocean Pressure > Water Pressure, Earth Science > Oceans > Ocean Temperature > Potential Temperature, Earth Science > Oceans > Ocean Temperature > Water Temperature, Earth Science > Oceans > Salinity/Density > Conductivity, Earth Science > Oceans > Salinity/Density > Density, Earth Science > Oceans > Salinity/Density > Potential Density, Earth Science > Oceans > Salinity/Density > Salinity, electrical, filename, flag, flags, flown, foundation, glider, ground, heading, index, internal, internal_pressure, internal_temperature, latitude, level, linear, linear_cmd, linear_command, linear_pos, linear_position, longitude, mission, mole, mole_concentration_of_dissolved_molecular_oxygen_in_sea_water, mole_concentration_of_dissolved_molecular_oxygen_in_sea_water_flag, molecular, nav_state, navigation, navigation_state, number, O2, ocean, ocean color, ocean pressure, ocean temperature, oceanography, oceans, optical, optical properties, orientation, original, over, oxygen, oxygen_concentration, oxygen_concentration_qc, phycocyanin, phycocyanin_raw, physical, physical oceanography, pitch, platform, platform_desired_orientation, platform_orientation, platform_pitch_angle, platform_roll_angle, platform_voltage, position, potential, potential_density, potential_density_qc, potential_temperature, potential_temperature_qc, practical, pressure, profile, profile_direction, profile_index, profile_num, properties, quality, raw, raw_700_nm_wavelength_backscatter_in_sea_water, raw_chlorophyll_in_sea_water, raw_phycocyanin_in_sea_water, roll, salinity, salinity/density, salinity_qc, science, sea, sea_water_density, sea_water_density_flag, sea_water_electrical_conductivity, sea_water_electrical_conductivity_flag, sea_water_potential_density, sea_water_potential_density_flag, sea_water_potential_temperature, sea_water_potential_temperature_flag, sea_water_practical_salinity, sea_water_practical_salinity_flag, sea_water_pressure, sea_water_temperature, sea_water_temperature_flag, seaexplorer, seawater, security, security_level, sensor, since, start, state, statistics, temperature, temperature_of_sensor_for_oxygen_in_sea_water, temperature_oxygen, temperature_qc, time, vass61, vass61-20220815t0805, voice, voltage, water, water pressure, water temperature, wavelength',\n",
       " 'keywords_vocabulary': 'GCMD Science Keywords',\n",
       " 'license': 'Creative Commons Attribution 4.0 (https://creativecommons.org/licenses/by/4.0/) This study used data collected and made freely available by Voice of the Ocean Foundation (https://voiceoftheocean.org) accessed from https://erddap.observations.voiceoftheocean.org/erddap/index.html',\n",
       " 'metadata_link': 'https://cfconventions.org/cf-conventions/v1.6.0/cf-conventions.html',\n",
       " 'naming_authority': 'Voice of the Ocean Foundation',\n",
       " 'netcdf_version': '4.0',\n",
       " 'Northernmost_Northing': 57.60941666666666,\n",
       " 'optics': {'calibration_date': '2021-03-23',\n",
       "  'calibration_parameters': {'Chl_DarkCounts': 46,\n",
       "   'Chl_SF': 0.0073,\n",
       "   'PC_DarkCounts': 42,\n",
       "   'PC_SF': 0.0422,\n",
       "   'SIG_DarkCounts': 45,\n",
       "   'SIG_SF': 1.798e-06},\n",
       "  'factory_calibrated': 'Yes',\n",
       "  'long_name': 'Wetlabs ECO Puck FLBBPC',\n",
       "  'make': 'Wetlabs',\n",
       "  'make_model': 'Wetlabs FLBBPC',\n",
       "  'model': 'FLBBPC',\n",
       "  'serial': '6753'},\n",
       " 'oxygen': {'calibration_date': '2020-02-05',\n",
       "  'factory_calibrated': 'Yes',\n",
       "  'long_name': 'JFE Advantech RINKO-FT',\n",
       "  'make': 'JFE Advantech',\n",
       "  'make_model': 'JFE Advantech AROD_FT',\n",
       "  'model': 'AROD-FT',\n",
       "  'serial': '0038'},\n",
       " 'platform': 'SeaExplorer Glider',\n",
       " 'processing_level': 'L1. Quality control flags from IOOS QC QARTOD https://github.com/ioos/ioos_qc Version: 2.1.0',\n",
       " 'project': 'SAMBA',\n",
       " 'project_url': 'https://voiceoftheocean.org/samba-smart-autonomous-monitoring-of-the-baltic-sea/',\n",
       " 'publisher_email': 'callum.rollo@voiceoftheocean.org',\n",
       " 'publisher_name': 'Callum Rollo',\n",
       " 'publisher_type': 'person',\n",
       " 'publisher_url': 'https://voiceoftheocean.org',\n",
       " 'references': 'created with pyglider https://github.com/c-proof/pyglider',\n",
       " 'sea_name': 'Baltic',\n",
       " 'source': 'Observational data from a profiling glider.',\n",
       " 'sourceUrl': '(local files)',\n",
       " 'Southernmost_Northing': 57.60853333333333,\n",
       " 'standard_name_vocabulary': 'CF Standard Name Table v70',\n",
       " 'subsetVariables': 'profile_index',\n",
       " 'summary': 'Part of SAMBA continuous monitoring',\n",
       " 'time_coverage_end': '2022-09-07T00:18:26Z',\n",
       " 'time_coverage_start': '2022-09-06T23:53:55Z',\n",
       " 'title': 'Vass61-20220815T0805',\n",
       " 'total_dives': 172.0,\n",
       " 'transmission_system': 'IRIDIUM',\n",
       " 'variables': ['time',\n",
       "  'latitude',\n",
       "  'longitude',\n",
       "  'nav_state',\n",
       "  'heading',\n",
       "  'pitch',\n",
       "  'roll',\n",
       "  'dive_num',\n",
       "  'security_level',\n",
       "  'declination',\n",
       "  'internal_temperature',\n",
       "  'internal_pressure',\n",
       "  'desired_heading',\n",
       "  'ballast_cmd',\n",
       "  'ballast_pos',\n",
       "  'linear_cmd',\n",
       "  'linear_pos',\n",
       "  'angular_cmd',\n",
       "  'angular_pos',\n",
       "  'voltage',\n",
       "  'conductivity',\n",
       "  'temperature',\n",
       "  'pressure',\n",
       "  'salinity',\n",
       "  'chlorophyll',\n",
       "  'chlorophyll_raw',\n",
       "  'phycocyanin',\n",
       "  'phycocyanin_raw',\n",
       "  'backscatter',\n",
       "  'backscatter_raw',\n",
       "  'oxygen_concentration',\n",
       "  'temperature_oxygen'],\n",
       " 'Westernmost_Easting': 11.473983333333335,\n",
       " 'wmo_id': '6801706'}"
      ]
     },
     "execution_count": 8,
     "metadata": {},
     "output_type": "execute_result"
    }
   ],
   "source": [
    "ds_meta[dataset_id]"
   ]
  },
  {
   "cell_type": "markdown",
   "id": "f7db993e-820b-4b23-aeec-3a602de4206e",
   "metadata": {},
   "source": [
    "### Expanding the table\n",
    "\n",
    "Let's add this more detailed metadata to our metadtata DataFrame so we have more scope for filtering"
   ]
  },
  {
   "cell_type": "code",
   "execution_count": 9,
   "id": "7e596eed-5625-4473-96f6-c9ea6ea703cc",
   "metadata": {},
   "outputs": [],
   "source": [
    "for dataset_id, meta in ds_meta.items():\n",
    "    for key, val in meta.items():\n",
    "        if key not in list(df_datasets):\n",
    "            df_datasets[key] = None\n",
    "        # Some of the metadata is stored in dicts or lists, which pandas does not like, so we cast to string\n",
    "        try:\n",
    "            df_datasets.loc[dataset_id, key] = val\n",
    "        except:\n",
    "            df_datasets.loc[dataset_id, key] = str(val)"
   ]
  },
  {
   "cell_type": "markdown",
   "id": "95c5459a-2cea-4772-9e3a-4e57ca622966",
   "metadata": {},
   "source": [
    "Let's have a look at some of this more detailed metadat that we can now run queries against"
   ]
  },
  {
   "cell_type": "markdown",
   "id": "62c20ad4-78ca-408b-ac9f-367eb589066b",
   "metadata": {},
   "source": [
    "### Which datasets were collected in Bornholm?"
   ]
  },
  {
   "cell_type": "code",
   "execution_count": 10,
   "id": "883df482-d951-4497-8511-055528359132",
   "metadata": {},
   "outputs": [
    {
     "name": "stdout",
     "output_type": "stream",
     "text": [
      "Missions in Bornholm:\n",
      "['nrt_SEA076_M8', 'nrt_SEA076_M9', 'nrt_SEA069_M11', 'nrt_SEA055_M16', 'nrt_SEA055_M18', 'nrt_SEA055_M19', 'nrt_SEA055_M20', 'nrt_SEA055_M21', 'nrt_SEA055_M24', 'nrt_SEA055_M28', 'nrt_SEA055_M31', 'nrt_SEA055_M37', 'nrt_SEA055_M43', 'nrt_SEA045_M48', 'nrt_SEA045_M54', 'nrt_SEA045_M56', 'nrt_SEA045_M60', 'nrt_SEA045_M62', 'nrt_SEA045_M64', 'nrt_SEA045_M65', 'nrt_SEA045_M67', 'nrt_SEA045_M69', 'nrt_SEA045_M71', 'nrt_SEA045_M73', 'nrt_SEA063_M17', 'nrt_SEA063_M18', 'nrt_SEA063_M19', 'nrt_SEA063_M20', 'nrt_SEA063_M21', 'nrt_SEA063_M22', 'nrt_SEA063_M33', 'nrt_SEA063_M35', 'nrt_SEA063_M37', 'nrt_SEA063_M38', 'nrt_SEA063_M39', 'nrt_SEA063_M40', 'nrt_SEA044_M40', 'nrt_SEA044_M48', 'nrt_SEA066_M10', 'nrt_SEA066_M12', 'nrt_SEA066_M14', 'nrt_SEA070_M13', 'nrt_SEA070_M14', 'nrt_SEA070_M15', 'nrt_SEA077_M11', 'nrt_SEA077_M12', 'nrt_SEA077_M13', 'nrt_SEA077_M15', 'nrt_SEA077_M17', 'nrt_SEA077_M18', 'nrt_SEA056_M40', 'nrt_SEA056_M54', 'nrt_SEA056_M55', 'nrt_SEA056_M56', 'nrt_SEA056_M57', 'nrt_SEA061_M38', 'nrt_SEA061_M39', 'nrt_SEA061_M40', 'nrt_SEA061_M42', 'nrt_SEA061_M43', 'nrt_SEA061_M48', 'nrt_SEA061_M50', 'nrt_SEA061_M54']\n"
     ]
    }
   ],
   "source": [
    "bornholm_missions = []\n",
    "for dataset_id, meta in ds_meta.items():\n",
    "    if \"bornholm\" in meta[\"basin\"].lower():\n",
    "        bornholm_missions.append(dataset_id)\n",
    "print(f\"Missions in Bornholm:\\n{bornholm_missions}\")"
   ]
  },
  {
   "cell_type": "markdown",
   "id": "c3b92587-0666-42a8-a891-38f43f50cc53",
   "metadata": {},
   "source": [
    "### Which missions had an JFE oxygen optode and a Nortek  AD2CP?"
   ]
  },
  {
   "cell_type": "code",
   "execution_count": 11,
   "id": "2d6fa05f-f499-4b03-b23c-053b7d494ec9",
   "metadata": {},
   "outputs": [
    {
     "name": "stdout",
     "output_type": "stream",
     "text": [
      "Missions with JFE oxygen optode and a Nortek  AD2CP:\n",
      "['nrt_SEA045_M33', 'nrt_SEA045_M36', 'nrt_SEA045_M37', 'nrt_SEA045_M41', 'nrt_SEA045_M44', 'nrt_SEA045_M45', 'nrt_SEA045_M48', 'nrt_SEA045_M50', 'nrt_SEA045_M51', 'nrt_SEA045_M52', 'nrt_SEA045_M54', 'nrt_SEA045_M56', 'nrt_SEA045_M60', 'nrt_SEA045_M62', 'nrt_SEA045_M64', 'nrt_SEA045_M65', 'nrt_SEA045_M67', 'nrt_SEA045_M69', 'nrt_SEA045_M71', 'nrt_SEA045_M73', 'nrt_SEA063_M17', 'nrt_SEA063_M18', 'nrt_SEA063_M19', 'nrt_SEA063_M20', 'nrt_SEA063_M21', 'nrt_SEA063_M22', 'nrt_SEA063_M24', 'nrt_SEA063_M33', 'nrt_SEA063_M35', 'nrt_SEA063_M37', 'nrt_SEA063_M38', 'nrt_SEA063_M39', 'nrt_SEA063_M40', 'nrt_SEA056_M40', 'nrt_SEA056_M42', 'nrt_SEA056_M54', 'nrt_SEA056_M55', 'nrt_SEA056_M56', 'nrt_SEA056_M57']\n"
     ]
    }
   ],
   "source": [
    "rinko_nortek_missions = []\n",
    "for dataset_id, meta in ds_meta.items():\n",
    "    if \"AD2CP\" not in meta.keys():\n",
    "        continue\n",
    "    if \"JFE\" in meta[\"oxygen\"][\"make_model\"] and \"Nortek\" in meta[\"AD2CP\"][\"make_model\"]:\n",
    "        rinko_nortek_missions.append(dataset_id)\n",
    "print(f\"Missions with JFE oxygen optode and a Nortek  AD2CP:\\n{rinko_nortek_missions}\")\n",
    "\n"
   ]
  },
  {
   "cell_type": "markdown",
   "id": "9a755e54-d0c9-49a3-91d4-38dd9429e662",
   "metadata": {},
   "source": [
    "### Which datasets were collected as part of the SAMBA project during 2022?"
   ]
  },
  {
   "cell_type": "code",
   "execution_count": 12,
   "id": "4c75d608-fc2c-4740-8bce-c975df01f1e0",
   "metadata": {},
   "outputs": [
    {
     "name": "stdout",
     "output_type": "stream",
     "text": [
      "SAMBA 2022 missions:\n",
      "Index(['nrt_SEA068_M27', 'nrt_SEA069_M9', 'nrt_SEA067_M26', 'nrt_SEA067_M27',\n",
      "       'nrt_SEA067_M29', 'nrt_SEA067_M30', 'nrt_SEA067_M32', 'nrt_SEA067_M37',\n",
      "       'nrt_SEA067_M39', 'nrt_SEA066_M41', 'nrt_SEA066_M42', 'nrt_SEA066_M43'],\n",
      "      dtype='object', name='datasetID')\n"
     ]
    }
   ],
   "source": [
    "start = df_datasets[\"maxTime (UTC)\"] > pd.Timestamp(\"2022-01-01\").tz_localize('utc') \n",
    "end = df_datasets[\"minTime (UTC)\"] < pd.Timestamp(\"2023-01-01\").tz_localize('utc') \n",
    "project = df_datasets[\"project\"] == \"SAMBA\"\n",
    "print(f\"SAMBA 2022 missions:\")\n",
    "print(df_datasets[mask].index)"
   ]
  },
  {
   "cell_type": "markdown",
   "id": "50da3abc-c1a9-4933-8062-a2d7861dee2d",
   "metadata": {},
   "source": [
    "### Which datasets have oxygen data from > 80 m depth from optode serial number 205992 "
   ]
  },
  {
   "cell_type": "code",
   "execution_count": 13,
   "id": "1554a6a7-72b7-4e1c-95c4-b5dd54d33408",
   "metadata": {},
   "outputs": [
    {
     "name": "stdout",
     "output_type": "stream",
     "text": [
      "Missions with optode number 205992 going to > 80 m:\n",
      "['nrt_SEA066_M10', 'nrt_SEA066_M12', 'nrt_SEA066_M14', 'nrt_SEA066_M16', 'nrt_SEA066_M41', 'nrt_SEA066_M42']\n"
     ]
    }
   ],
   "source": [
    "deep_205992_misions = []\n",
    "for dataset_id, meta in ds_meta.items():\n",
    "    if  meta[\"oxygen\"][\"serial\"] == \"205592\" and meta[\"geospatial_vertical_max\"] > 0:\n",
    "        deep_205992_misions.append(dataset_id)\n",
    "print(f\"Missions with optode number 205992 going to > 80 m:\\n{deep_205992_misions}\")"
   ]
  },
  {
   "cell_type": "markdown",
   "id": "111ba964-7a64-4c99-beda-0d30e471f925",
   "metadata": {},
   "source": [
    "---------------------------\n",
    "### References\n",
    "\n",
    "VOTO ERDDAP https://erddap.observations.voiceoftheocean.org/erddap/index.html \n",
    "\n",
    "More info on using ERDDAP's inbuilt search https://ioos.github.io/erddapy/01b-tabledap-output.html"
   ]
  }
 ],
 "metadata": {
  "kernelspec": {
   "display_name": "Python 3 (ipykernel)",
   "language": "python",
   "name": "python3"
  },
  "language_info": {
   "codemirror_mode": {
    "name": "ipython",
    "version": 3
   },
   "file_extension": ".py",
   "mimetype": "text/x-python",
   "name": "python",
   "nbconvert_exporter": "python",
   "pygments_lexer": "ipython3",
   "version": "3.9.15"
  }
 },
 "nbformat": 4,
 "nbformat_minor": 5
}
